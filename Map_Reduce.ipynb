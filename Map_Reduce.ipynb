{
  "nbformat": 4,
  "nbformat_minor": 0,
  "metadata": {
    "colab": {
      "provenance": [],
      "authorship_tag": "ABX9TyPBqSBD/3sINUq7xHYOnjZR",
      "include_colab_link": true
    },
    "kernelspec": {
      "name": "python3",
      "display_name": "Python 3"
    },
    "language_info": {
      "name": "python"
    }
  },
  "cells": [
    {
      "cell_type": "markdown",
      "metadata": {
        "id": "view-in-github",
        "colab_type": "text"
      },
      "source": [
        "<a href=\"https://colab.research.google.com/github/caranugent/DE300/blob/main/Map_Reduce.ipynb\" target=\"_parent\"><img src=\"https://colab.research.google.com/assets/colab-badge.svg\" alt=\"Open In Colab\"/></a>"
      ]
    },
    {
      "cell_type": "code",
      "execution_count": 1,
      "metadata": {
        "id": "1GbK89ZENjiN"
      },
      "outputs": [],
      "source": [
        "import seaborn as sns\n",
        "diam = sns.load_dataset('diamonds', cache=True, data_home='dataset/')"
      ]
    },
    {
      "cell_type": "code",
      "source": [
        "from pyspark.sql import SparkSession\n",
        "\n",
        "spark = SparkSession.builder.getOrCreate()\n",
        "sc = spark.sparkContext\n",
        "\n",
        "diamonds = (\n",
        "    spark.read.format('csv')\n",
        "    .options(header='true', inferSchema='true')\n",
        "    .load('dataset/diamonds.csv')\n",
        "    .cache()\n",
        ")"
      ],
      "metadata": {
        "id": "JPFFWjqxODa6"
      },
      "execution_count": 4,
      "outputs": []
    },
    {
      "cell_type": "code",
      "source": [
        "diamonds.take(5)"
      ],
      "metadata": {
        "colab": {
          "base_uri": "https://localhost:8080/"
        },
        "id": "q5j1pjzYORrF",
        "outputId": "8fba2ef6-e54a-437d-ee9f-342a56c1c214"
      },
      "execution_count": 5,
      "outputs": [
        {
          "output_type": "execute_result",
          "data": {
            "text/plain": [
              "[Row(carat=0.23, cut='Ideal', color='E', clarity='SI2', depth=61.5, table=55.0, price=326, x=3.95, y=3.98, z=2.43),\n",
              " Row(carat=0.21, cut='Premium', color='E', clarity='SI1', depth=59.8, table=61.0, price=326, x=3.89, y=3.84, z=2.31),\n",
              " Row(carat=0.23, cut='Good', color='E', clarity='VS1', depth=56.9, table=65.0, price=327, x=4.05, y=4.07, z=2.31),\n",
              " Row(carat=0.29, cut='Premium', color='I', clarity='VS2', depth=62.4, table=58.0, price=334, x=4.2, y=4.23, z=2.63),\n",
              " Row(carat=0.31, cut='Good', color='J', clarity='SI2', depth=63.3, table=58.0, price=335, x=4.34, y=4.35, z=2.75)]"
            ]
          },
          "metadata": {},
          "execution_count": 5
        }
      ]
    },
    {
      "cell_type": "code",
      "source": [
        "df = (\n",
        "    diamonds\n",
        "    .where(diamonds['price'] > 1000)\n",
        "    .select(['cut', 'color', 'carat', 'clarity', 'price'])\n",
        ")"
      ],
      "metadata": {
        "id": "8_v_mLo7OdmL"
      },
      "execution_count": 7,
      "outputs": []
    },
    {
      "cell_type": "code",
      "source": [
        "df.show(5)"
      ],
      "metadata": {
        "colab": {
          "base_uri": "https://localhost:8080/"
        },
        "id": "LFdXpXffO12s",
        "outputId": "a9c95db6-8946-4719-f52d-44097d488a26"
      },
      "execution_count": 9,
      "outputs": [
        {
          "output_type": "stream",
          "name": "stdout",
          "text": [
            "+---------+-----+-----+-------+-----+\n",
            "|      cut|color|carat|clarity|price|\n",
            "+---------+-----+-----+-------+-----+\n",
            "|    Ideal|    E|  0.7|    SI1| 2757|\n",
            "|     Fair|    E| 0.86|    SI2| 2757|\n",
            "|    Ideal|    G|  0.7|    VS2| 2757|\n",
            "|Very Good|    E| 0.71|    VS2| 2759|\n",
            "|Very Good|    G| 0.78|    SI2| 2759|\n",
            "+---------+-----+-----+-------+-----+\n",
            "only showing top 5 rows\n",
            "\n"
          ]
        }
      ]
    },
    {
      "cell_type": "code",
      "source": [
        "predictors = ['cut', 'color', 'carat', 'clarity',]\n",
        "categorical = set(['cut', 'color', 'clarity'])"
      ],
      "metadata": {
        "id": "RlO1FOpvPCt3"
      },
      "execution_count": 10,
      "outputs": []
    },
    {
      "cell_type": "code",
      "source": [
        "response = 'price'"
      ],
      "metadata": {
        "id": "3fLiyBc3Po51"
      },
      "execution_count": 11,
      "outputs": []
    },
    {
      "cell_type": "code",
      "source": [
        "# x transpose x (by row) : returns array of all outer products\n",
        "  # xi, xj is a vector      (essentially a col X row --> matrix)\n",
        "\n",
        "def xtx_map(row):\n",
        "  row = row.asDict()\n",
        "\n",
        "  # look through predictors in X_i, want to return each item ind.\n",
        "  for i in predictors:\n",
        "\n",
        "    (ki, vi) = (i, row[i]) if i not in categorical else (i+\"_\"+row[i], 1.0)     # return value IF non-categorical ELSE new name will be cut_Ideal\n",
        "\n",
        "    # loop through predictors in X_iT (second)\n",
        "    for j in predictors:\n",
        "\n",
        "      (kj, vj) = (j, row[j]) if j not in categorical else (j+\"_\"+row[j], 1.0)   # return value IF non-categorical ELSE new name will be cut_Ideal\n",
        "\n",
        "      vij = vi * vj\n",
        "\n",
        "      yield((ki, kj), vij)"
      ],
      "metadata": {
        "id": "dpnf5V01P0aL"
      },
      "execution_count": 16,
      "outputs": []
    },
    {
      "cell_type": "code",
      "source": [
        "# x transpose y (by row) : returns array of inner products\n",
        "  # xi is a vector, yi is a scalar\n",
        "\n",
        "def xty_map(row):\n",
        "  row = row.asDict()\n",
        "\n",
        "  # loop through predictors in X_i, want to return each term ind.\n",
        "  for j in predictors:\n",
        "\n",
        "    (kj, vj) = (j, row[j]) if j not in categorical else (j+\"_\"+row[j], 1.0)     # return value IF non-categorical ELSE new name will be cut_Ideal\n",
        "\n",
        "    yield (kj, vj * row[response])    # return key (eg, cut_Ideal) and value * yi (row[response])"
      ],
      "metadata": {
        "id": "O4azxZjqP38d"
      },
      "execution_count": 17,
      "outputs": []
    },
    {
      "cell_type": "code",
      "source": [
        "row = df.take(1)\n",
        "row[0]"
      ],
      "metadata": {
        "colab": {
          "base_uri": "https://localhost:8080/"
        },
        "id": "MONU7Wq9VfEz",
        "outputId": "075664c4-bbc0-4628-8a8c-4d26a94c0f86"
      },
      "execution_count": 18,
      "outputs": [
        {
          "output_type": "execute_result",
          "data": {
            "text/plain": [
              "Row(cut='Ideal', color='E', carat=0.7, clarity='SI1', price=2757)"
            ]
          },
          "metadata": {},
          "execution_count": 18
        }
      ]
    },
    {
      "cell_type": "code",
      "source": [
        "[a for a in xty_map(row[0])]"
      ],
      "metadata": {
        "colab": {
          "base_uri": "https://localhost:8080/"
        },
        "id": "GHjO9x6eVi9V",
        "outputId": "ad9de869-c106-4fb7-a3f0-3488918ded4e"
      },
      "execution_count": 19,
      "outputs": [
        {
          "output_type": "execute_result",
          "data": {
            "text/plain": [
              "[('cut_Ideal', 2757.0),\n",
              " ('color_E', 2757.0),\n",
              " ('carat', 1929.8999999999999),\n",
              " ('clarity_SI1', 2757.0)]"
            ]
          },
          "metadata": {},
          "execution_count": 19
        }
      ]
    },
    {
      "cell_type": "code",
      "source": [
        "[a for a in xtx_map(row[0])]"
      ],
      "metadata": {
        "colab": {
          "base_uri": "https://localhost:8080/"
        },
        "id": "kBfulIitVlgc",
        "outputId": "27569275-cfd2-41d9-aad3-0240ae822e2d"
      },
      "execution_count": 20,
      "outputs": [
        {
          "output_type": "execute_result",
          "data": {
            "text/plain": [
              "[(('cut_Ideal', 'cut_Ideal'), 1.0),\n",
              " (('cut_Ideal', 'color_E'), 1.0),\n",
              " (('cut_Ideal', 'carat'), 0.7),\n",
              " (('cut_Ideal', 'clarity_SI1'), 1.0),\n",
              " (('color_E', 'cut_Ideal'), 1.0),\n",
              " (('color_E', 'color_E'), 1.0),\n",
              " (('color_E', 'carat'), 0.7),\n",
              " (('color_E', 'clarity_SI1'), 1.0),\n",
              " (('carat', 'cut_Ideal'), 0.7),\n",
              " (('carat', 'color_E'), 0.7),\n",
              " (('carat', 'carat'), 0.48999999999999994),\n",
              " (('carat', 'clarity_SI1'), 0.7),\n",
              " (('clarity_SI1', 'cut_Ideal'), 1.0),\n",
              " (('clarity_SI1', 'color_E'), 1.0),\n",
              " (('clarity_SI1', 'carat'), 0.7),\n",
              " (('clarity_SI1', 'clarity_SI1'), 1.0)]"
            ]
          },
          "metadata": {},
          "execution_count": 20
        }
      ]
    },
    {
      "cell_type": "markdown",
      "source": [
        "**now we have the inner and outer products- can sum over them to get the actual xTy and xTx products (by keys)**"
      ],
      "metadata": {
        "id": "Q-2iNBq9WSlz"
      }
    },
    {
      "cell_type": "code",
      "source": [
        "xtx_data = (df.rdd\n",
        "            .flatMap(xtx_map)                     # tells spark we are applying over each row\n",
        "            .reduceByKey(lambda a, b: a+b)        # reduces by like keys\n",
        "            .collect()\n",
        "            )"
      ],
      "metadata": {
        "id": "6ZqZjuniVy1c"
      },
      "execution_count": 21,
      "outputs": []
    },
    {
      "cell_type": "code",
      "source": [
        "xty_data = (df.rdd\n",
        "            .flatMap(xty_map)                     # tells spark we are applying over each row\n",
        "            .reduceByKey(lambda a, b: a+b)        # reduces by like keys\n",
        "            .collect()\n",
        "            )"
      ],
      "metadata": {
        "id": "rGk1z2xFXC8f"
      },
      "execution_count": 22,
      "outputs": []
    },
    {
      "cell_type": "code",
      "source": [
        "xty_data"
      ],
      "metadata": {
        "colab": {
          "base_uri": "https://localhost:8080/"
        },
        "id": "SRcX-9e4XuZt",
        "outputId": "7ded67a7-505d-4b7a-8f39-66a4b05e7128"
      },
      "execution_count": 23,
      "outputs": [
        {
          "output_type": "execute_result",
          "data": {
            "text/plain": [
              "[('cut_Ideal', 69491685.0),\n",
              " ('color_E', 27913897.0),\n",
              " ('carat', 259765355.250002),\n",
              " ('clarity_SI1', 50141077.0),\n",
              " ('cut_Fair', 6931384.0),\n",
              " ('clarity_SI2', 45876510.0),\n",
              " ('color_G', 42841867.0),\n",
              " ('clarity_VS2', 45536589.0),\n",
              " ('cut_Very Good', 45996850.0),\n",
              " ('cut_Good', 18558296.0),\n",
              " ('color_F', 33724244.0),\n",
              " ('clarity_VS1', 29642262.0),\n",
              " ('cut_Premium', 60868420.0),\n",
              " ('color_H', 35873113.0),\n",
              " ('color_D', 19990260.0),\n",
              " ('color_I', 26838093.0),\n",
              " ('clarity_VVS2', 15250346.0),\n",
              " ('clarity_VVS1', 8043137.0),\n",
              " ('color_J', 14665161.0),\n",
              " ('clarity_I1', 2860076.0),\n",
              " ('clarity_IF', 4496638.0)]"
            ]
          },
          "metadata": {},
          "execution_count": 23
        }
      ]
    },
    {
      "cell_type": "code",
      "source": [
        "## one thing that could be useful -->\n",
        "   # create an index list for where I should put it back according to the index\n",
        "\n",
        "index = dict(zip([r[0] for r in xty_data], range(len(xty_data))))\n",
        "p = len(index)\n",
        "\n",
        "#  arrange the individual elements back into matrices\n",
        "import numpy as np\n",
        "\n",
        "XTY = np.zeros((p, 1))\n",
        "for (k, v) in xty_data:\n",
        "  XTY[index[k]] = v\n",
        "\n",
        "XTX = np.zeros((p,p))\n",
        "for ((k1,k2),v) in xtx_data:\n",
        "  XTX[index[k1], index[k2]] = v"
      ],
      "metadata": {
        "id": "ZDOEcLyAXzqG"
      },
      "execution_count": 24,
      "outputs": []
    },
    {
      "cell_type": "code",
      "source": [
        "XTX.shape, XTY.shape"
      ],
      "metadata": {
        "colab": {
          "base_uri": "https://localhost:8080/"
        },
        "id": "abu6vT8yYMjg",
        "outputId": "9d4f07e4-b200-43c5-ec88-d0dae567e90c"
      },
      "execution_count": 27,
      "outputs": [
        {
          "output_type": "execute_result",
          "data": {
            "text/plain": [
              "((21, 21), (21, 1))"
            ]
          },
          "metadata": {},
          "execution_count": 27
        }
      ]
    },
    {
      "cell_type": "code",
      "source": [
        "# actually solve the linear algebra using numpy\n",
        "beta = np.linalg.solve(XTX, XTY)"
      ],
      "metadata": {
        "id": "0q7lVxcbYNjR"
      },
      "execution_count": null,
      "outputs": []
    }
  ]
}