{
 "cells": [
  {
   "cell_type": "markdown",
   "id": "9470ffb5-276c-40b4-86b4-8f35198a4060",
   "metadata": {},
   "source": [
    "First homework assignment (due April 25 at 5 pm; delivery by github)\n",
    "\n",
    "1.\tWrite a script that creates a database table schema for the input csv file and loads the file to a database of your choice (Amazon S3 is not a database). Some possible choices: mysql, postgres, duckdb, Redshift. You will have to install the first three in a VM. \n",
    "2.\tFrom this point on, all of your scripts and code must fetch the data from the underlying database. \n",
    "3.\tAnalyze missing values and come up with a strategy to impute them. You might need different imputation methods for different features. Justify your choices. \n",
    "4.\tFor the numerical features, identify outliers and appropriately deal with them. Justify your choices. \n",
    "5.\tCompute and analyze the various statistical measures. \n",
    "6.\tPerform the necessary feature transformations. (In all of the steps distinguish between numerical features and categorical features.)\n",
    "7.\tGenerate box and scatter plots. Reason about them.\n",
    "8.\tThe cleaned, transformed, and imputed data should at the end be stored in a new database table. \n",
    "\n",
    "Recurrent footnote: Use AWS resources sparingly; you have a budget. Test and debug locally and only make final runs on AWS. "
   ]
  }
 ],
 "metadata": {
  "kernelspec": {
   "display_name": "Python 3 (ipykernel)",
   "language": "python",
   "name": "python3"
  },
  "language_info": {
   "codemirror_mode": {
    "name": "ipython",
    "version": 3
   },
   "file_extension": ".py",
   "mimetype": "text/x-python",
   "name": "python",
   "nbconvert_exporter": "python",
   "pygments_lexer": "ipython3",
   "version": "3.11.6"
  }
 },
 "nbformat": 4,
 "nbformat_minor": 5
}
