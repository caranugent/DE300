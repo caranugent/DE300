{
  "cells": [
    {
      "cell_type": "markdown",
      "id": "7c20d3a8-a3c7-4607-b109-c9f3f31d1896",
      "metadata": {
        "id": "7c20d3a8-a3c7-4607-b109-c9f3f31d1896"
      },
      "source": [
        "# (EX) Electronic medical record (as a SQL refresher)\n",
        "This example utilizes a subset of the [MIMIC III demo](https://physionet.org/content/mimiciii-demo/1.4/) dataset in illustrating the use of database using DuckDB.\n",
        "\n",
        "*Quick notes about DuckDB:*  \n",
        "\n",
        "- DuckDB is a relational database for analytics processing (i.e., OLAP)\n",
        "- DuckDB is columnar-oriented\n",
        "- DuckDB scales reasonably for *relatively* large datasets and works well for local development\n",
        "\n",
        "For MIMIC-III, here is a [full summary](https://mit-lcp.github.io/mimic-schema-spy/) where you can understand the relationship between tables."
      ]
    },
    {
      "cell_type": "code",
      "execution_count": 1,
      "id": "34d2d203-6568-4c5e-8215-756f8946507a",
      "metadata": {
        "scrolled": true,
        "id": "34d2d203-6568-4c5e-8215-756f8946507a",
        "colab": {
          "base_uri": "https://localhost:8080/"
        },
        "outputId": "4be79651-37c9-4cb5-f7f8-b913f239893b"
      },
      "outputs": [
        {
          "output_type": "stream",
          "name": "stdout",
          "text": [
            "Requirement already satisfied: duckdb==1.2.2 in /usr/local/lib/python3.11/dist-packages (1.2.2)\n"
          ]
        }
      ],
      "source": [
        "!pip install duckdb==1.2.2\n",
        "import duckdb"
      ]
    },
    {
      "cell_type": "code",
      "execution_count": 3,
      "id": "122c09a4-4197-4582-86e7-31556d0aae68",
      "metadata": {
        "id": "122c09a4-4197-4582-86e7-31556d0aae68",
        "colab": {
          "base_uri": "https://localhost:8080/"
        },
        "outputId": "aca82867-a535-460f-b96a-9994b85abcbf"
      },
      "outputs": [
        {
          "output_type": "execute_result",
          "data": {
            "text/plain": [
              "┌────────────┐\n",
              "│    name    │\n",
              "│  varchar   │\n",
              "├────────────┤\n",
              "│ ADMISSIONS │\n",
              "│ DRGCODES   │\n",
              "│ D_ICDPROCS │\n",
              "│ ICUSTAYS   │\n",
              "│ PATIENTS   │\n",
              "│ PROCS_ICD  │\n",
              "└────────────┘"
            ]
          },
          "metadata": {},
          "execution_count": 3
        }
      ],
      "source": [
        "# establish connection\n",
        "conn = duckdb.connect('dataset/mimic.db', read_only=True)\n",
        "\n",
        "conn.sql('SHOW TABLES;')"
      ]
    },
    {
      "cell_type": "markdown",
      "source": [
        "We will use a subset of the tables provided in the MIMIC-III database:\n",
        "\n",
        "\n",
        "*   ADMISSIONS.csv\n",
        "*   DRGCODES.csv\n",
        "*   D_ICD_PROCEDURES.csv\n",
        "*   ICUSTAYS.csv\n",
        "*   PATIENTS.csv\n",
        "*   PROCEDURES_ICD.csv\n",
        "*   PRESCRIPTIONS.csv (new)\n",
        "\n"
      ],
      "metadata": {
        "id": "jI-bWOTBn7dj"
      },
      "id": "jI-bWOTBn7dj"
    },
    {
      "cell_type": "code",
      "execution_count": 4,
      "id": "f472eba1-ec9a-4ef0-a3f9-35779453c25a",
      "metadata": {
        "id": "f472eba1-ec9a-4ef0-a3f9-35779453c25a",
        "colab": {
          "base_uri": "https://localhost:8080/"
        },
        "outputId": "fb853366-6531-4f84-d91b-42f86f57b7cf"
      },
      "outputs": [
        {
          "output_type": "execute_result",
          "data": {
            "text/plain": [
              "┌─────────────┬───────────┐\n",
              "│ column_name │ data_type │\n",
              "│   varchar   │  varchar  │\n",
              "├─────────────┴───────────┤\n",
              "│         0 rows          │\n",
              "└─────────────────────────┘"
            ]
          },
          "metadata": {},
          "execution_count": 4
        }
      ],
      "source": [
        "# metadata for a particular table\n",
        "conn.sql(\n",
        "    \"\"\"\n",
        "    SELECT column_name, data_type FROM information_schema.columns\n",
        "    WHERE table_name = 'PRESCRIPTIONS';\n",
        "    \"\"\"\n",
        ")"
      ]
    },
    {
      "cell_type": "code",
      "execution_count": null,
      "id": "dccd4798-a5fa-438f-8040-bd01b729c97e",
      "metadata": {
        "scrolled": true,
        "id": "dccd4798-a5fa-438f-8040-bd01b729c97e"
      },
      "outputs": [],
      "source": [
        "# admission table at a glance\n",
        "conn.sql(\n",
        "    \"\"\"\n",
        "    SELECT sum(expire_flag) FROM PATIENTS;\n",
        "    \"\"\"\n",
        ")"
      ]
    },
    {
      "cell_type": "code",
      "execution_count": null,
      "id": "e1621349-194a-4dc9-8c42-c1cfdfa946dc",
      "metadata": {
        "id": "e1621349-194a-4dc9-8c42-c1cfdfa946dc"
      },
      "outputs": [],
      "source": [
        "# number of patients\n",
        "conn.sql(\n",
        "    \"\"\"\n",
        "    SELECT COUNT(*) FROM PATIENTS;\n",
        "    \"\"\"\n",
        ")"
      ]
    },
    {
      "cell_type": "markdown",
      "id": "c8b07317-c334-456a-8ff8-eb093387796b",
      "metadata": {
        "id": "c8b07317-c334-456a-8ff8-eb093387796b"
      },
      "source": [
        "## Refresher for simple queries\n",
        "\n",
        "1. How many records are in each of the available tables?\n",
        "2. How many patients are female?\n",
        "3. How many patients passed away during the hospital stay?\n",
        "4. How many different admission types are there? What are they?\n",
        "5. What is the earliest and the latest admission time in the database?"
      ]
    },
    {
      "cell_type": "code",
      "execution_count": null,
      "id": "cd8bcfd4-b221-4e59-8435-e94ba9e52657",
      "metadata": {
        "id": "cd8bcfd4-b221-4e59-8435-e94ba9e52657"
      },
      "outputs": [],
      "source": [
        "conn.sql(\n",
        "    \"\"\"\n",
        "    SELECT count(*) from PATIENTS\n",
        "    WHERE gender = 'F'\n",
        "    \"\"\"\n",
        ")"
      ]
    },
    {
      "cell_type": "code",
      "execution_count": null,
      "id": "791078d2-7e60-4a69-89bc-1cab130f7fc4",
      "metadata": {
        "id": "791078d2-7e60-4a69-89bc-1cab130f7fc4"
      },
      "outputs": [],
      "source": [
        "conn.sql(\n",
        "    \"\"\"\n",
        "    SELECT COUNT(*) FROM PATIENTS\n",
        "    WHERE dod_hosp IS NOT NULL\n",
        "    \"\"\"\n",
        ")\n",
        "\n",
        "conn.sql(\n",
        "    \"\"\"\n",
        "    SELECT COUNT(*) FROM ADMISSIONS\n",
        "    WHERE deathtime IS NOT NULL\n",
        "    \"\"\"\n",
        ")"
      ]
    },
    {
      "cell_type": "code",
      "execution_count": null,
      "id": "332113d1-5d33-4288-9034-1e7adc0097ac",
      "metadata": {
        "id": "332113d1-5d33-4288-9034-1e7adc0097ac"
      },
      "outputs": [],
      "source": [
        "conn.sql(\n",
        "    \"\"\"\n",
        "    SELECT DISTINCT admission_type FROM admissions\n",
        "    \"\"\"\n",
        ")"
      ]
    },
    {
      "cell_type": "code",
      "execution_count": null,
      "id": "8ef2781b-c1e2-429c-8e00-2627e4ecf089",
      "metadata": {
        "id": "8ef2781b-c1e2-429c-8e00-2627e4ecf089"
      },
      "outputs": [],
      "source": [
        "conn.sql(\n",
        "    \"\"\"\n",
        "    select min(admittime), max(admittime) FROM ADMISSIONS\n",
        "    \"\"\"\n",
        ")"
      ]
    },
    {
      "cell_type": "markdown",
      "id": "d2d5c3ed-b243-4463-a52d-1bc2da399f93",
      "metadata": {
        "id": "d2d5c3ed-b243-4463-a52d-1bc2da399f93"
      },
      "source": [
        "## Slightly more complicated queries\n",
        "1. Create a table with all ICU stays with their respective patient information.\n",
        "2. Create a table to show all unique DRG (diagnosis-related group) codes and the number of associated admissions."
      ]
    },
    {
      "cell_type": "code",
      "execution_count": null,
      "id": "ae475f0e-d1d7-4f66-bd41-4cdcefca6c2d",
      "metadata": {
        "id": "ae475f0e-d1d7-4f66-bd41-4cdcefca6c2d"
      },
      "outputs": [],
      "source": [
        "conn.sql(\n",
        "    \"\"\"\n",
        "    SELECT * FROM ICUSTAYS\n",
        "    JOIN admissions\n",
        "    ON ICUSTAYS.subject_id = admissions.subject_id\n",
        "    \"\"\"\n",
        ")"
      ]
    },
    {
      "cell_type": "markdown",
      "id": "36a89562-e90a-457e-9c3a-fa3db6a2910f",
      "metadata": {
        "id": "36a89562-e90a-457e-9c3a-fa3db6a2910f"
      },
      "source": [
        "## Derivative queries"
      ]
    },
    {
      "cell_type": "markdown",
      "id": "45ef93ab-0cac-4622-b1eb-ed28d1601f7e",
      "metadata": {
        "id": "45ef93ab-0cac-4622-b1eb-ed28d1601f7e"
      },
      "source": [
        "1. Calculate the age of each patient at the time of admission.  \n",
        "    *Hint:* `cast(patients.dob as date)` allows for addition and subtraction of dates (in days)\n",
        "2. Identify if a patient passes away when they are in the ICU.\n",
        "3. Calculate the average duration of admission."
      ]
    },
    {
      "cell_type": "code",
      "execution_count": null,
      "id": "3b7fc524-0863-43bd-9edc-933d07e3377d",
      "metadata": {
        "id": "3b7fc524-0863-43bd-9edc-933d07e3377d"
      },
      "outputs": [],
      "source": [
        "conn.sql(\n",
        "    \"\"\"\n",
        "\n",
        "    \"\"\"\n",
        ")"
      ]
    },
    {
      "cell_type": "markdown",
      "id": "a13d622e-4511-4299-88c1-d40d6b79e4f5",
      "metadata": {
        "id": "a13d622e-4511-4299-88c1-d40d6b79e4f5"
      },
      "source": [
        "# Creating your own database\n",
        "\n",
        "The example below refers to creating your own database and loading data into tables."
      ]
    },
    {
      "cell_type": "code",
      "execution_count": null,
      "id": "cf75990a-edd8-49c9-abc4-6492b5f7c26f",
      "metadata": {
        "id": "cf75990a-edd8-49c9-abc4-6492b5f7c26f"
      },
      "outputs": [],
      "source": [
        "# establish connection\n",
        "conn = duckdb.connect('dataset/mimic_new.db', read_only=False)\n",
        "\n",
        "conn.sql('SHOW TABLES;')"
      ]
    }
  ],
  "metadata": {
    "kernelspec": {
      "display_name": "Python 3 (ipykernel)",
      "language": "python",
      "name": "python3"
    },
    "language_info": {
      "codemirror_mode": {
        "name": "ipython",
        "version": 3
      },
      "file_extension": ".py",
      "mimetype": "text/x-python",
      "name": "python",
      "nbconvert_exporter": "python",
      "pygments_lexer": "ipython3",
      "version": "3.11.9"
    },
    "colab": {
      "provenance": []
    }
  },
  "nbformat": 4,
  "nbformat_minor": 5
}