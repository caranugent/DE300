{
 "cells": [
  {
   "cell_type": "code",
   "execution_count": 1,
   "id": "3175c080-b9f5-4287-bf1f-4977a79f7a41",
   "metadata": {},
   "outputs": [
    {
     "name": "stdout",
     "output_type": "stream",
     "text": [
      "Collecting cassandra-sigv4\n",
      "  Downloading cassandra_sigv4-4.0.2-py2.py3-none-any.whl.metadata (5.9 kB)\n",
      "Collecting cassandra-driver (from cassandra-sigv4)\n",
      "  Downloading cassandra_driver-3.29.2-cp310-cp310-macosx_10_9_x86_64.whl.metadata (6.2 kB)\n",
      "Collecting boto3 (from cassandra-sigv4)\n",
      "  Downloading boto3-1.38.5-py3-none-any.whl.metadata (6.6 kB)\n",
      "Requirement already satisfied: six in /Users/caranugent/miniconda3/lib/python3.10/site-packages (from cassandra-sigv4) (1.16.0)\n",
      "Collecting botocore<1.39.0,>=1.38.5 (from boto3->cassandra-sigv4)\n",
      "  Downloading botocore-1.38.5-py3-none-any.whl.metadata (5.7 kB)\n",
      "Collecting jmespath<2.0.0,>=0.7.1 (from boto3->cassandra-sigv4)\n",
      "  Downloading jmespath-1.0.1-py3-none-any.whl.metadata (7.6 kB)\n",
      "Collecting s3transfer<0.13.0,>=0.12.0 (from boto3->cassandra-sigv4)\n",
      "  Downloading s3transfer-0.12.0-py3-none-any.whl.metadata (1.7 kB)\n",
      "Collecting geomet<0.3,>=0.1 (from cassandra-driver->cassandra-sigv4)\n",
      "  Downloading geomet-0.2.1.post1-py3-none-any.whl.metadata (1.0 kB)\n",
      "Requirement already satisfied: python-dateutil<3.0.0,>=2.1 in /Users/caranugent/miniconda3/lib/python3.10/site-packages (from botocore<1.39.0,>=1.38.5->boto3->cassandra-sigv4) (2.8.2)\n",
      "Requirement already satisfied: urllib3!=2.2.0,<3,>=1.25.4 in /Users/caranugent/miniconda3/lib/python3.10/site-packages (from botocore<1.39.0,>=1.38.5->boto3->cassandra-sigv4) (1.26.13)\n",
      "Collecting click (from geomet<0.3,>=0.1->cassandra-driver->cassandra-sigv4)\n",
      "  Downloading click-8.1.8-py3-none-any.whl.metadata (2.3 kB)\n",
      "Downloading cassandra_sigv4-4.0.2-py2.py3-none-any.whl (9.8 kB)\n",
      "Downloading boto3-1.38.5-py3-none-any.whl (139 kB)\n",
      "Downloading cassandra_driver-3.29.2-cp310-cp310-macosx_10_9_x86_64.whl (363 kB)\n",
      "Downloading botocore-1.38.5-py3-none-any.whl (13.5 MB)\n",
      "\u001b[2K   \u001b[90m━━━━━━━━━━━━━━━━━━━━━━━━━━━━━━━━━━━━━━━━\u001b[0m \u001b[32m13.5/13.5 MB\u001b[0m \u001b[31m26.8 MB/s\u001b[0m eta \u001b[36m0:00:00\u001b[0ma \u001b[36m0:00:01\u001b[0m\n",
      "\u001b[?25hDownloading geomet-0.2.1.post1-py3-none-any.whl (18 kB)\n",
      "Downloading jmespath-1.0.1-py3-none-any.whl (20 kB)\n",
      "Downloading s3transfer-0.12.0-py3-none-any.whl (84 kB)\n",
      "Downloading click-8.1.8-py3-none-any.whl (98 kB)\n",
      "Installing collected packages: jmespath, click, geomet, botocore, s3transfer, cassandra-driver, boto3, cassandra-sigv4\n",
      "Successfully installed boto3-1.38.5 botocore-1.38.5 cassandra-driver-3.29.2 cassandra-sigv4-4.0.2 click-8.1.8 geomet-0.2.1.post1 jmespath-1.0.1 s3transfer-0.12.0\n",
      "\n",
      "\u001b[1m[\u001b[0m\u001b[34;49mnotice\u001b[0m\u001b[1;39;49m]\u001b[0m\u001b[39;49m A new release of pip is available: \u001b[0m\u001b[31;49m24.2\u001b[0m\u001b[39;49m -> \u001b[0m\u001b[32;49m25.1\u001b[0m\n",
      "\u001b[1m[\u001b[0m\u001b[34;49mnotice\u001b[0m\u001b[1;39;49m]\u001b[0m\u001b[39;49m To update, run: \u001b[0m\u001b[32;49mpip install --upgrade pip\u001b[0m\n",
      "Note: you may need to restart the kernel to use updated packages.\n"
     ]
    }
   ],
   "source": [
    "# install cassandra-sigv4\n",
    "# %pip install cassandra-sigv4"
   ]
  },
  {
   "cell_type": "markdown",
   "id": "715096e2-5c43-4e30-bfc9-f7ff75d863be",
   "metadata": {},
   "source": [
    "example code for connection:"
   ]
  },
  {
   "cell_type": "code",
   "execution_count": 5,
   "id": "b652a99e-7881-4e84-b492-b28dedf00090",
   "metadata": {},
   "outputs": [
    {
     "name": "stderr",
     "output_type": "stream",
     "text": [
      "/var/folders/x2/m72jg43n4md074_09qnd1ml00000gn/T/ipykernel_54622/3644438619.py:8: DeprecationWarning: ssl.PROTOCOL_TLSv1_2 is deprecated\n",
      "  ssl_context = SSLContext(PROTOCOL_TLSv1_2)\n"
     ]
    }
   ],
   "source": [
    "# Set up a boto3 session and a Cassandra cluster (the Python way of interacting with AWS)\n",
    "from cassandra.cluster import Cluster\n",
    "from ssl import SSLContext, PROTOCOL_TLSv1_2, CERT_REQUIRED\n",
    "from cassandra_sigv4.auth import SigV4AuthProvider\n",
    "import boto3\n",
    "\n",
    "# ssl setup\n",
    "ssl_context = SSLContext(PROTOCOL_TLSv1_2)\n",
    "ssl_context.load_verify_locations('/Users/caranugent/Desktop/Data Eng 300/sf-class2-root.crt')  # change your file path for locating the certificate\n",
    "ssl_context.verify_mode = CERT_REQUIRED\n",
    "\n",
    "# boto3 session setup\n",
    "boto_session = boto3.Session(region_name=\"us-east-2\")  # this AWS credentials is specific to `us-east-2` region"
   ]
  },
  {
   "cell_type": "code",
   "execution_count": 6,
   "id": "9384936f-18dd-4f02-bbc7-4670bd72e715",
   "metadata": {},
   "outputs": [],
   "source": [
    "# authorization setup with SigV4\n",
    "auth_provider = SigV4AuthProvider(boto_session)"
   ]
  },
  {
   "cell_type": "code",
   "execution_count": 7,
   "id": "d2fcebf5-68ae-4668-bfea-1ea7f74b23ad",
   "metadata": {},
   "outputs": [],
   "source": [
    "#cluster setup \n",
    "cluster = Cluster(['cassandra.us-east-2.amazonaws.com'], \n",
    "                  ssl_context=ssl_context, \n",
    "                  auth_provider=auth_provider, \n",
    "                  port=9142)  # TLS only communicates on port 9142"
   ]
  },
  {
   "cell_type": "markdown",
   "id": "b0dc1c18-89d9-4a8d-9f6c-86d17bc2fcc0",
   "metadata": {},
   "source": [
    "Working with Cassandra (AWS Keyspace)"
   ]
  },
  {
   "cell_type": "code",
   "execution_count": 8,
   "id": "5c4a8dcf-5006-42ec-a86d-57bc36c0de13",
   "metadata": {},
   "outputs": [],
   "source": [
    "# establishing connection to Keyspace\n",
    "session = cluster.connect()"
   ]
  },
  {
   "cell_type": "code",
   "execution_count": 9,
   "id": "f40f58cf-27cb-479b-b0ef-29e011d95fc7",
   "metadata": {},
   "outputs": [
    {
     "name": "stdout",
     "output_type": "stream",
     "text": [
      "[Row(keyspace_name='system_schema', durable_writes=True, replication=OrderedMapSerializedKey([('class', 'org.apache.cassandra.locator.SimpleStrategy'), ('replication_factor', '3')])), Row(keyspace_name='system_schema_mcs', durable_writes=True, replication=OrderedMapSerializedKey([('class', 'org.apache.cassandra.locator.SimpleStrategy'), ('replication_factor', '3')])), Row(keyspace_name='system', durable_writes=True, replication=OrderedMapSerializedKey([('class', 'org.apache.cassandra.locator.SimpleStrategy'), ('replication_factor', '3')])), Row(keyspace_name='system_multiregion_info', durable_writes=True, replication=OrderedMapSerializedKey([('class', 'org.apache.cassandra.locator.SimpleStrategy'), ('replication_factor', '3')])), Row(keyspace_name='de300_axc4282', durable_writes=True, replication=OrderedMapSerializedKey([('class', 'org.apache.cassandra.locator.SimpleStrategy'), ('replication_factor', '3')])), Row(keyspace_name='de300_demo', durable_writes=True, replication=OrderedMapSerializedKey([('class', 'org.apache.cassandra.locator.SimpleStrategy'), ('replication_factor', '3')])), Row(keyspace_name='de300_lab4', durable_writes=True, replication=OrderedMapSerializedKey([('class', 'org.apache.cassandra.locator.SimpleStrategy'), ('replication_factor', '3')])), Row(keyspace_name='de300_lrg4668', durable_writes=True, replication=OrderedMapSerializedKey([('class', 'org.apache.cassandra.locator.SimpleStrategy'), ('replication_factor', '3')])), Row(keyspace_name='de300_sabian_lab4', durable_writes=True, replication=OrderedMapSerializedKey([('class', 'org.apache.cassandra.locator.SimpleStrategy'), ('replication_factor', '3')])), Row(keyspace_name='de300_ttk6623', durable_writes=True, replication=OrderedMapSerializedKey([('class', 'org.apache.cassandra.locator.SimpleStrategy'), ('replication_factor', '3')])), Row(keyspace_name='ryan_beam', durable_writes=True, replication=OrderedMapSerializedKey([('class', 'org.apache.cassandra.locator.SimpleStrategy'), ('replication_factor', '3')]))]\n"
     ]
    }
   ],
   "source": [
    "# Insert any CQL queries between .connect() and .shutdown()\n",
    "\n",
    "# For example, show all keyspaces created\n",
    "r = session.execute('''\n",
    "    SELECT * FROM system_schema.keyspaces;\n",
    "    ''')\n",
    "print(r.current_rows)"
   ]
  },
  {
   "cell_type": "code",
   "execution_count": 10,
   "id": "d4205f2f-2d56-40f8-8e89-76c79876a75c",
   "metadata": {},
   "outputs": [
    {
     "name": "stdout",
     "output_type": "stream",
     "text": [
      "[]\n"
     ]
    }
   ],
   "source": [
    "# For example, create a keyspace for HW2\n",
    "r = session.execute('''\n",
    "    CREATE KEYSPACE IF NOT EXISTS de300_demo \n",
    "    WITH replication = {'class': 'SingleRegionStrategy'};\n",
    "    ''')\n",
    "print(r.current_rows)"
   ]
  },
  {
   "cell_type": "markdown",
   "id": "8c7698d6-edac-4fb9-ab53-5391483b9753",
   "metadata": {},
   "source": [
    "***Exercises***\n",
    "Let's first create a table within the keyspace 'de300-demo'. Note that when using Amazon Keyspaces, you must explicitly set an ExecutionProfile with LOCAL_QUORUM when creating your Cassandra Cluster in Python. Thus we set the credentials and reload the session"
   ]
  },
  {
   "cell_type": "code",
   "execution_count": 11,
   "id": "0063805d-12e1-489c-924d-c71bec52c2d6",
   "metadata": {},
   "outputs": [],
   "source": [
    "from cassandra.cluster import ExecutionProfile, EXEC_PROFILE_DEFAULT\n",
    "from cassandra import ConsistencyLevel\n",
    "\n",
    "\n",
    "# Define execution profile with LOCAL_QUORUM\n",
    "execution_profile = ExecutionProfile(\n",
    "    consistency_level=ConsistencyLevel.LOCAL_QUORUM\n",
    ")\n",
    "\n",
    "# Cluster setup with correct profile\n",
    "cluster = Cluster(\n",
    "    ['cassandra.us-east-2.amazonaws.com'],\n",
    "    ssl_context=ssl_context,\n",
    "    auth_provider=auth_provider,\n",
    "    port=9142,\n",
    "    execution_profiles={EXEC_PROFILE_DEFAULT: execution_profile}\n",
    ")\n",
    "\n",
    "# establishing connection to Keyspace\n",
    "session = cluster.connect()\n",
    "session.set_keyspace('de300_demo')  # Replace with your keyspace"
   ]
  },
  {
   "cell_type": "markdown",
   "id": "c34394ff-2cd9-4561-a4ae-e2d5ed7c7c4a",
   "metadata": {},
   "source": [
    "create a new table named 'github'"
   ]
  },
  {
   "cell_type": "code",
   "execution_count": 12,
   "id": "75929618-a968-47f3-874f-7a9d0f7a6531",
   "metadata": {},
   "outputs": [
    {
     "data": {
      "text/plain": [
       "<cassandra.cluster.ResultSet at 0x7fc5d48a93f0>"
      ]
     },
     "execution_count": 12,
     "metadata": {},
     "output_type": "execute_result"
    }
   ],
   "source": [
    "session.execute(\"\"\"\n",
    "CREATE TABLE IF NOT EXISTS github (\n",
    "    id UUID PRIMARY KEY,\n",
    "    name TEXT,\n",
    "    username TEXT\n",
    ")\n",
    "\"\"\")"
   ]
  },
  {
   "cell_type": "markdown",
   "id": "961d01e5-4b9f-49a6-9e4c-002e9bb6ee94",
   "metadata": {},
   "source": [
    "Insert data to the table (please replace the value below with your name and GitHub username)"
   ]
  },
  {
   "cell_type": "code",
   "execution_count": 13,
   "id": "3fe87947-bd05-4fd8-8607-5a170cc70c47",
   "metadata": {},
   "outputs": [
    {
     "data": {
      "text/plain": [
       "<cassandra.cluster.ResultSet at 0x7fc5d328d6c0>"
      ]
     },
     "execution_count": 13,
     "metadata": {},
     "output_type": "execute_result"
    }
   ],
   "source": [
    "import uuid\n",
    "\n",
    "session.execute(\"\"\"\n",
    "    INSERT INTO github (id, name, username)\n",
    "    VALUES (%s, %s, %s)\n",
    "\"\"\", (uuid.uuid4(), \"Cara_Nugent\", \"caranugent\"))\n",
    "\n",
    "# Replace \"Your_Name\" with your name\n",
    "# Replace \"Your_GitHub_User_Name\" with your real GitHub User"
   ]
  },
  {
   "cell_type": "markdown",
   "id": "9db78125-b540-44d8-96bb-1bd041b681f8",
   "metadata": {},
   "source": [
    "Export the table as a csv file"
   ]
  },
  {
   "cell_type": "code",
   "execution_count": 14,
   "id": "fbd69973-bab4-43d0-8e7b-cf8f1a530b4a",
   "metadata": {},
   "outputs": [],
   "source": [
    "import csv\n",
    "\n",
    "rows = session.execute(\"SELECT * FROM github\")\n",
    "with open(\"github.csv\", \"w\", newline=\"\") as f:\n",
    "    writer = csv.writer(f)\n",
    "    writer.writerow([\"id\", \"name\", \"username\"])\n",
    "    for row in rows:\n",
    "        writer.writerow([row.id, row.name, row.username])"
   ]
  },
  {
   "cell_type": "markdown",
   "id": "d020ed0a-5950-4f4e-8fa9-efa18a7b23a0",
   "metadata": {},
   "source": [
    "Create a folder named \"Lab4\" in your GitHub repository, and upload the csv file there."
   ]
  }
 ],
 "metadata": {
  "kernelspec": {
   "display_name": "Python 3 (ipykernel)",
   "language": "python",
   "name": "python3"
  },
  "language_info": {
   "codemirror_mode": {
    "name": "ipython",
    "version": 3
   },
   "file_extension": ".py",
   "mimetype": "text/x-python",
   "name": "python",
   "nbconvert_exporter": "python",
   "pygments_lexer": "ipython3",
   "version": "3.10.8"
  }
 },
 "nbformat": 4,
 "nbformat_minor": 5
}
