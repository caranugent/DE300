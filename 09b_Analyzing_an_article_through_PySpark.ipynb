{
  "cells": [
    {
      "cell_type": "markdown",
      "metadata": {
        "id": "view-in-github",
        "colab_type": "text"
      },
      "source": [
        "<a href=\"https://colab.research.google.com/github/caranugent/DE300/blob/main/09b_Analyzing_an_article_through_PySpark.ipynb\" target=\"_parent\"><img src=\"https://colab.research.google.com/assets/colab-badge.svg\" alt=\"Open In Colab\"/></a>"
      ]
    },
    {
      "cell_type": "markdown",
      "id": "21f84f97-c80f-4a16-990d-f2cfb0588c97",
      "metadata": {
        "id": "21f84f97-c80f-4a16-990d-f2cfb0588c97"
      },
      "source": [
        "# (EX) Analyzing an article through PySpark"
      ]
    },
    {
      "cell_type": "code",
      "execution_count": null,
      "id": "8b8da009-1f21-4886-a3bf-2d0620867461",
      "metadata": {
        "id": "8b8da009-1f21-4886-a3bf-2d0620867461"
      },
      "outputs": [],
      "source": [
        "import os\n",
        "os.environ[\"JAVA_HOME\"] = r\"C:\\Program Files\\Java\\jdk-11.0.2\"\n",
        "os.environ[\"SPARK_HOME\"] = r\"C:\\Program Files\\Spark\\spark-3.5.5-bin-hadoop3\""
      ]
    },
    {
      "cell_type": "code",
      "execution_count": null,
      "id": "57eb0de5-4ad5-4cbe-aa76-457c2d284436",
      "metadata": {
        "id": "57eb0de5-4ad5-4cbe-aa76-457c2d284436"
      },
      "outputs": [],
      "source": [
        "import findspark\n",
        "findspark.init()"
      ]
    },
    {
      "cell_type": "code",
      "execution_count": null,
      "id": "5b0650a7-9b80-4598-ad65-53ba7bd1077b",
      "metadata": {
        "id": "5b0650a7-9b80-4598-ad65-53ba7bd1077b"
      },
      "outputs": [],
      "source": [
        "from pyspark.sql import SparkSession\n",
        "\n",
        "spark = (SparkSession.builder\n",
        "                     .appName(\"Analyzing an unknown article.\")\n",
        "                     .getOrCreate())\n"
      ]
    },
    {
      "cell_type": "code",
      "execution_count": null,
      "id": "e9160caf-b6a1-41a5-a3e8-787caac45a46",
      "metadata": {
        "colab": {
          "base_uri": "https://localhost:8080/",
          "height": 221
        },
        "id": "e9160caf-b6a1-41a5-a3e8-787caac45a46",
        "outputId": "6256b892-63fe-4a1a-a24e-71c0f8a9856e"
      },
      "outputs": [
        {
          "output_type": "execute_result",
          "data": {
            "text/plain": [
              "<pyspark.sql.session.SparkSession at 0x7b2500c3aed0>"
            ],
            "text/html": [
              "\n",
              "            <div>\n",
              "                <p><b>SparkSession - in-memory</b></p>\n",
              "                \n",
              "        <div>\n",
              "            <p><b>SparkContext</b></p>\n",
              "\n",
              "            <p><a href=\"http://b1e655671510:4040\">Spark UI</a></p>\n",
              "\n",
              "            <dl>\n",
              "              <dt>Version</dt>\n",
              "                <dd><code>v3.5.1</code></dd>\n",
              "              <dt>Master</dt>\n",
              "                <dd><code>local[*]</code></dd>\n",
              "              <dt>AppName</dt>\n",
              "                <dd><code>Analyzing an unknown article.</code></dd>\n",
              "            </dl>\n",
              "        </div>\n",
              "        \n",
              "            </div>\n",
              "        "
            ]
          },
          "metadata": {},
          "execution_count": 2
        }
      ],
      "source": [
        "spark"
      ]
    },
    {
      "cell_type": "code",
      "execution_count": null,
      "id": "89a04847-7803-4e32-8677-e18b2b030c18",
      "metadata": {
        "id": "89a04847-7803-4e32-8677-e18b2b030c18"
      },
      "outputs": [],
      "source": [
        "sc = spark.sparkContext"
      ]
    },
    {
      "cell_type": "code",
      "execution_count": null,
      "id": "8e0a6626-facf-4c20-9124-d7ab97882631",
      "metadata": {
        "scrolled": true,
        "id": "8e0a6626-facf-4c20-9124-d7ab97882631"
      },
      "outputs": [],
      "source": [
        "## documentation\n",
        "spark.read??"
      ]
    },
    {
      "cell_type": "code",
      "execution_count": null,
      "id": "ab79b6a7-a03b-4579-b068-13a706e5399f",
      "metadata": {
        "id": "ab79b6a7-a03b-4579-b068-13a706e5399f"
      },
      "outputs": [],
      "source": [
        "file_path = r'Pope_Article_Text.txt'"
      ]
    },
    {
      "cell_type": "code",
      "execution_count": null,
      "id": "489084fc-30cd-4b6d-babe-941f75ef0908",
      "metadata": {
        "id": "489084fc-30cd-4b6d-babe-941f75ef0908"
      },
      "outputs": [],
      "source": [
        "article = spark.read.text(file_path)"
      ]
    },
    {
      "cell_type": "code",
      "execution_count": null,
      "id": "75aa13f5-f0f8-4b21-b3be-71b6e8d0f726",
      "metadata": {
        "id": "75aa13f5-f0f8-4b21-b3be-71b6e8d0f726",
        "outputId": "7f4396d4-52c1-494b-c394-97e75dc26220"
      },
      "outputs": [
        {
          "data": {
            "text/plain": [
              "DataFrame[value: string]"
            ]
          },
          "execution_count": 9,
          "metadata": {},
          "output_type": "execute_result"
        }
      ],
      "source": [
        "article"
      ]
    },
    {
      "cell_type": "code",
      "execution_count": null,
      "id": "1a20e1d1-793a-4d59-800c-590b2e4b43be",
      "metadata": {
        "colab": {
          "base_uri": "https://localhost:8080/"
        },
        "id": "1a20e1d1-793a-4d59-800c-590b2e4b43be",
        "outputId": "032496aa-e27c-49d8-dae5-0351c64308ff"
      },
      "outputs": [
        {
          "output_type": "stream",
          "name": "stdout",
          "text": [
            "root\n",
            " |-- value: string (nullable = true)\n",
            "\n"
          ]
        }
      ],
      "source": [
        "article.printSchema()"
      ]
    },
    {
      "cell_type": "code",
      "execution_count": null,
      "id": "939fe350-1c14-4e08-88c7-55a1d986d5b5",
      "metadata": {
        "colab": {
          "base_uri": "https://localhost:8080/"
        },
        "id": "939fe350-1c14-4e08-88c7-55a1d986d5b5",
        "outputId": "1d7f3868-84c1-41b0-e674-6a0fd2f291bc"
      },
      "outputs": [
        {
          "output_type": "execute_result",
          "data": {
            "text/plain": [
              "DataFrame[value: string]"
            ]
          },
          "metadata": {},
          "execution_count": 8
        }
      ],
      "source": [
        "article.select(article.value)"
      ]
    },
    {
      "cell_type": "code",
      "execution_count": null,
      "id": "2d3cb328-b790-4ffe-a33a-eee904400c8b",
      "metadata": {
        "colab": {
          "base_uri": "https://localhost:8080/"
        },
        "id": "2d3cb328-b790-4ffe-a33a-eee904400c8b",
        "outputId": "1aba54ad-36cd-42ed-db19-349d363a0932"
      },
      "outputs": [
        {
          "output_type": "stream",
          "name": "stdout",
          "text": [
            "+-------------------------------------------------------------------------------------------------------------------------------------------------------------------------+\n",
            "|value                                                                                                                                                                    |\n",
            "+-------------------------------------------------------------------------------------------------------------------------------------------------------------------------+\n",
            "|New Pope Leo XIV cites AI’s challenge to human dignity in his name choice                                                                                                |\n",
            "|Pope Leo XIV named himself after another pope with a legacy of social reform.                                                                                            |\n",
            "|By Cecily Mauran  on May 11, 2025                                                                                                                                        |\n",
            "|                                                                                                                                                                         |\n",
            "|The name choice of a new pope carries symbolism for the values he wishes to emulate, in recognition of the most pressing issues he sees as leader of the Catholic Church.|\n",
            "+-------------------------------------------------------------------------------------------------------------------------------------------------------------------------+\n",
            "only showing top 5 rows\n",
            "\n"
          ]
        }
      ],
      "source": [
        "article.show(5, truncate=False)"
      ]
    },
    {
      "cell_type": "code",
      "execution_count": null,
      "id": "440529f0-2af5-4641-b551-8229b3b1ddfb",
      "metadata": {
        "id": "440529f0-2af5-4641-b551-8229b3b1ddfb"
      },
      "outputs": [],
      "source": [
        "from pyspark.sql.functions import col"
      ]
    },
    {
      "cell_type": "code",
      "execution_count": null,
      "id": "1f851025-42ea-4cac-a856-54bfa7a54183",
      "metadata": {
        "colab": {
          "base_uri": "https://localhost:8080/"
        },
        "id": "1f851025-42ea-4cac-a856-54bfa7a54183",
        "outputId": "6d3ddd8b-8c60-4487-e15c-55aa1ec66b8f"
      },
      "outputs": [
        {
          "output_type": "execute_result",
          "data": {
            "text/plain": [
              "DataFrame[value: string]"
            ]
          },
          "metadata": {},
          "execution_count": 11
        }
      ],
      "source": [
        "article.select(article.value)\n",
        "article.select(article['value'])\n",
        "article.select(col('value'))\n",
        "article.select('value')"
      ]
    },
    {
      "cell_type": "code",
      "execution_count": null,
      "id": "91cd967a-7df8-41fd-8de1-2e064558030f",
      "metadata": {
        "id": "91cd967a-7df8-41fd-8de1-2e064558030f"
      },
      "outputs": [],
      "source": [
        "from pyspark.sql.functions import col, split\n",
        "\n",
        "lines = article.select(\n",
        "    split(col('value'), \" \").alias('line')\n",
        ")\n",
        "# have split up the liens into a list of words"
      ]
    },
    {
      "cell_type": "code",
      "execution_count": null,
      "id": "243760c9-5a06-4472-99ca-32eb91b9dc43",
      "metadata": {
        "colab": {
          "base_uri": "https://localhost:8080/"
        },
        "id": "243760c9-5a06-4472-99ca-32eb91b9dc43",
        "outputId": "6e32cf73-e4a2-41f9-f123-ee7f301e8bde"
      },
      "outputs": [
        {
          "output_type": "stream",
          "name": "stdout",
          "text": [
            "root\n",
            " |-- line: array (nullable = true)\n",
            " |    |-- element: string (containsNull = false)\n",
            "\n"
          ]
        }
      ],
      "source": [
        "lines.printSchema() # converted from string to array of elements"
      ]
    },
    {
      "cell_type": "code",
      "execution_count": null,
      "id": "25297b62-fec9-4c70-8fc4-f922292581b2",
      "metadata": {
        "colab": {
          "base_uri": "https://localhost:8080/"
        },
        "id": "25297b62-fec9-4c70-8fc4-f922292581b2",
        "outputId": "331bd891-857e-4c7d-d4d8-cc49ed4231de"
      },
      "outputs": [
        {
          "output_type": "stream",
          "name": "stdout",
          "text": [
            "+---------------------------------------------------------------------------------------------------------------------------------------------------------------------------------------------------------+\n",
            "|line                                                                                                                                                                                                     |\n",
            "+---------------------------------------------------------------------------------------------------------------------------------------------------------------------------------------------------------+\n",
            "|[New, Pope, Leo, XIV, cites, AI’s, challenge, to, human, dignity, in, his, name, choice]                                                                                                                 |\n",
            "|[Pope, Leo, XIV, named, himself, after, another, pope, with, a, legacy, of, social, reform.]                                                                                                             |\n",
            "|[By, Cecily, Mauran, , on, May, 11,, 2025]                                                                                                                                                               |\n",
            "|[]                                                                                                                                                                                                       |\n",
            "|[The, name, choice, of, a, new, pope, carries, symbolism, for, the, values, he, wishes, to, emulate,, in, recognition, of, the, most, pressing, issues, he, sees, as, leader, of, the, Catholic, Church.]|\n",
            "+---------------------------------------------------------------------------------------------------------------------------------------------------------------------------------------------------------+\n",
            "only showing top 5 rows\n",
            "\n"
          ]
        }
      ],
      "source": [
        "lines.show(5, truncate=False)"
      ]
    },
    {
      "cell_type": "code",
      "execution_count": null,
      "id": "3bb9451c-289a-47c1-881a-57cef2be8a30",
      "metadata": {
        "colab": {
          "base_uri": "https://localhost:8080/"
        },
        "id": "3bb9451c-289a-47c1-881a-57cef2be8a30",
        "outputId": "14f1eb5c-842b-480a-bd8e-4907691909cf"
      },
      "outputs": [
        {
          "output_type": "execute_result",
          "data": {
            "text/plain": [
              "DataFrame[line: array<string>]"
            ]
          },
          "metadata": {},
          "execution_count": 15
        }
      ],
      "source": [
        "lines"
      ]
    },
    {
      "cell_type": "code",
      "execution_count": null,
      "id": "6deae7ec-32d9-4321-84db-efc5ed076761",
      "metadata": {
        "id": "6deae7ec-32d9-4321-84db-efc5ed076761"
      },
      "outputs": [],
      "source": [
        "# BEFORE CLEANING: list of strings doesn't work with map, create a col of words\n",
        "\n",
        "from pyspark.sql.functions import explode\n",
        "\n",
        "words = lines.select(explode(col(\"line\")).alias('word'))"
      ]
    },
    {
      "cell_type": "code",
      "execution_count": null,
      "id": "d0aee891-b24e-435d-965c-cf66ea07c178",
      "metadata": {
        "colab": {
          "base_uri": "https://localhost:8080/"
        },
        "id": "d0aee891-b24e-435d-965c-cf66ea07c178",
        "outputId": "174a4a5d-0c02-4be4-9771-187d51f850e5"
      },
      "outputs": [
        {
          "output_type": "stream",
          "name": "stdout",
          "text": [
            "root\n",
            " |-- word: string (nullable = false)\n",
            "\n"
          ]
        }
      ],
      "source": [
        "words.printSchema()"
      ]
    },
    {
      "cell_type": "code",
      "source": [
        "# PYSPARK doesn't do anything unless you actually call show:\n",
        "words.show(10)"
      ],
      "metadata": {
        "colab": {
          "base_uri": "https://localhost:8080/"
        },
        "id": "mi4Hxoxt_VbG",
        "outputId": "4ebfa31a-b589-4176-937b-c8196974d57e"
      },
      "id": "mi4Hxoxt_VbG",
      "execution_count": null,
      "outputs": [
        {
          "output_type": "stream",
          "name": "stdout",
          "text": [
            "+---------+\n",
            "|     word|\n",
            "+---------+\n",
            "|      New|\n",
            "|     Pope|\n",
            "|      Leo|\n",
            "|      XIV|\n",
            "|    cites|\n",
            "|     AI’s|\n",
            "|challenge|\n",
            "|       to|\n",
            "|    human|\n",
            "|  dignity|\n",
            "+---------+\n",
            "only showing top 10 rows\n",
            "\n"
          ]
        }
      ]
    },
    {
      "cell_type": "code",
      "execution_count": null,
      "id": "03ebf3c9-6bef-4b80-b5c7-c36a4b77b6d7",
      "metadata": {
        "id": "03ebf3c9-6bef-4b80-b5c7-c36a4b77b6d7"
      },
      "outputs": [],
      "source": [
        "from pyspark.sql.functions import lower\n",
        "\n",
        "words_lower = words.select(lower(col(\"word\")).alias('word_lower'))"
      ]
    },
    {
      "cell_type": "code",
      "execution_count": null,
      "id": "43485d12-c5c1-4766-b457-1cd9c5f5059b",
      "metadata": {
        "colab": {
          "base_uri": "https://localhost:8080/"
        },
        "id": "43485d12-c5c1-4766-b457-1cd9c5f5059b",
        "outputId": "e3c46f98-2728-4776-a4ab-846039b918c5"
      },
      "outputs": [
        {
          "output_type": "stream",
          "name": "stdout",
          "text": [
            "+----------+\n",
            "|word_lower|\n",
            "+----------+\n",
            "|       new|\n",
            "|      pope|\n",
            "|       leo|\n",
            "|       xiv|\n",
            "|     cites|\n",
            "|      ai’s|\n",
            "| challenge|\n",
            "|        to|\n",
            "|     human|\n",
            "|   dignity|\n",
            "+----------+\n",
            "only showing top 10 rows\n",
            "\n"
          ]
        }
      ],
      "source": [
        "words_lower.show(10)"
      ]
    },
    {
      "cell_type": "code",
      "execution_count": null,
      "id": "5f118a54-45a8-44a4-b08d-731515fc6132",
      "metadata": {
        "id": "5f118a54-45a8-44a4-b08d-731515fc6132"
      },
      "outputs": [],
      "source": [
        "# IN CLEANING: typically want to clean out punctuations\n",
        "from pyspark.sql.functions import regexp_extract\n",
        "\n",
        "words_clean = words_lower.select(\n",
        "    regexp_extract(col(\"word_lower\"), r\"(\\W+)?([a-z]+)\", 2).alias(\"word_clean\")\n",
        ")"
      ]
    },
    {
      "cell_type": "code",
      "execution_count": null,
      "id": "8ffd47d8-cbc8-4b93-ac28-817196d41707",
      "metadata": {
        "colab": {
          "base_uri": "https://localhost:8080/"
        },
        "id": "8ffd47d8-cbc8-4b93-ac28-817196d41707",
        "outputId": "fe371aee-1b46-4a9b-b1b9-29ded2eaf9d5"
      },
      "outputs": [
        {
          "output_type": "stream",
          "name": "stdout",
          "text": [
            "+----------+\n",
            "|word_clean|\n",
            "+----------+\n",
            "|       new|\n",
            "|      pope|\n",
            "|       leo|\n",
            "|       xiv|\n",
            "|     cites|\n",
            "|        ai|\n",
            "| challenge|\n",
            "|        to|\n",
            "|     human|\n",
            "|   dignity|\n",
            "+----------+\n",
            "only showing top 10 rows\n",
            "\n"
          ]
        }
      ],
      "source": [
        "words_clean.show(10)"
      ]
    },
    {
      "cell_type": "code",
      "execution_count": null,
      "id": "6cb69c6b-d97d-4832-a8ed-4492a7314bb7",
      "metadata": {
        "colab": {
          "base_uri": "https://localhost:8080/"
        },
        "id": "6cb69c6b-d97d-4832-a8ed-4492a7314bb7",
        "outputId": "cdbe9b0f-4914-47e3-be39-c94f1816654d"
      },
      "outputs": [
        {
          "output_type": "stream",
          "name": "stdout",
          "text": [
            "+----------+\n",
            "|word_clean|\n",
            "+----------+\n",
            "|       new|\n",
            "|      pope|\n",
            "|       leo|\n",
            "|       xiv|\n",
            "|     cites|\n",
            "|        ai|\n",
            "| challenge|\n",
            "|        to|\n",
            "|     human|\n",
            "|   dignity|\n",
            "+----------+\n",
            "only showing top 10 rows\n",
            "\n"
          ]
        }
      ],
      "source": [
        "words_nonull = words_clean.where(col(\"word_clean\") != \"\")\n",
        "\n",
        "words_nonull.show(10) #0)"
      ]
    },
    {
      "cell_type": "code",
      "execution_count": null,
      "id": "a4399196-59f8-420d-9f25-c4fc8ee6df03",
      "metadata": {
        "id": "a4399196-59f8-420d-9f25-c4fc8ee6df03"
      },
      "outputs": [],
      "source": [
        "groups = words_nonull.groupBy(col(\"word_clean\"))"
      ]
    },
    {
      "cell_type": "code",
      "execution_count": null,
      "id": "7cf384cb-4a47-404e-a9a9-96ae8f3b2992",
      "metadata": {
        "colab": {
          "base_uri": "https://localhost:8080/"
        },
        "id": "7cf384cb-4a47-404e-a9a9-96ae8f3b2992",
        "outputId": "2d058f87-1343-459c-d823-2abde537b01e"
      },
      "outputs": [
        {
          "output_type": "execute_result",
          "data": {
            "text/plain": [
              "GroupedData[grouping expressions: [word_clean], value: [word_clean: string], type: GroupBy]"
            ]
          },
          "metadata": {},
          "execution_count": 25
        }
      ],
      "source": [
        "groups"
      ]
    },
    {
      "cell_type": "code",
      "execution_count": null,
      "id": "2c829827-d984-4bbf-8a7a-4c62952acdd2",
      "metadata": {
        "id": "2c829827-d984-4bbf-8a7a-4c62952acdd2"
      },
      "outputs": [],
      "source": [
        "counts = groups.count()"
      ]
    },
    {
      "cell_type": "code",
      "source": [
        "counts.show(10)"
      ],
      "metadata": {
        "colab": {
          "base_uri": "https://localhost:8080/"
        },
        "id": "S_AugV4-BV9K",
        "outputId": "4ebd4adb-70e1-4a7c-b581-331f0b2f678c"
      },
      "id": "S_AugV4-BV9K",
      "execution_count": null,
      "outputs": [
        {
          "output_type": "stream",
          "name": "stdout",
          "text": [
            "+-----------+-----+\n",
            "| word_clean|count|\n",
            "+-----------+-----+\n",
            "|interaction|    1|\n",
            "|  partially|    1|\n",
            "|       farm|    1|\n",
            "|     duties|    1|\n",
            "|        day|    1|\n",
            "|   rejected|    1|\n",
            "|     intend|    1|\n",
            "|  cardinals|    1|\n",
            "| production|    1|\n",
            "|        two|    1|\n",
            "+-----------+-----+\n",
            "only showing top 10 rows\n",
            "\n"
          ]
        }
      ]
    },
    {
      "cell_type": "code",
      "execution_count": null,
      "id": "a5ae9ab2-0e0f-4469-b73b-d78e4dbe2762",
      "metadata": {
        "colab": {
          "base_uri": "https://localhost:8080/"
        },
        "id": "a5ae9ab2-0e0f-4469-b73b-d78e4dbe2762",
        "outputId": "86c88b7c-68f2-4325-f395-ba6b268d8056"
      },
      "outputs": [
        {
          "output_type": "stream",
          "name": "stdout",
          "text": [
            "+----------+-----+\n",
            "|word_clean|count|\n",
            "+----------+-----+\n",
            "|       the|   35|\n",
            "|        of|   23|\n",
            "|        in|   16|\n",
            "|       and|   14|\n",
            "|        to|   14|\n",
            "|       leo|   12|\n",
            "|      pope|   12|\n",
            "|        ai|    8|\n",
            "|         a|    8|\n",
            "|       his|    8|\n",
            "+----------+-----+\n",
            "only showing top 10 rows\n",
            "\n"
          ]
        }
      ],
      "source": [
        "# order counts by frequency (decreasing)\n",
        "counts.orderBy('count', ascending=False).show(10)"
      ]
    },
    {
      "cell_type": "code",
      "execution_count": null,
      "id": "e58f10c8-e405-42ce-a75a-3b0b7c7cca41",
      "metadata": {
        "id": "e58f10c8-e405-42ce-a75a-3b0b7c7cca41"
      },
      "outputs": [],
      "source": [
        "# CAN CHANGE ALL OPS TOGETHER, don't need to keep recreating dfs\n",
        "\n",
        "import pyspark.sql.functions as F\n",
        "\n",
        "counts = (\n",
        "    spark.read.text(file_path)\n",
        "     .select(F.split(F.col('value'), ' ').alias('line'))\n",
        "     .select(F.explode(F.col('line')).alias('word'))\n",
        "     .select(F.lower(F.col('word')).alias('word'))\n",
        "     .select(F.regexp_extract(F.col('word'), r\"(\\W+)?([a-z]+)\", 2).alias('word'))\n",
        "     .where(F.col('word') != \"\")\n",
        "     .groupby('word')\n",
        "     .count()\n",
        ")"
      ]
    },
    {
      "cell_type": "code",
      "execution_count": null,
      "id": "4ec2ecf8-5f0b-468d-bc0a-54034755d14b",
      "metadata": {
        "colab": {
          "base_uri": "https://localhost:8080/"
        },
        "id": "4ec2ecf8-5f0b-468d-bc0a-54034755d14b",
        "outputId": "16f6d856-4aed-454c-dfcd-54dff8fc2d86"
      },
      "outputs": [
        {
          "output_type": "stream",
          "name": "stdout",
          "text": [
            "+-----------+-----+\n",
            "|       word|count|\n",
            "+-----------+-----+\n",
            "|interaction|    1|\n",
            "|  partially|    1|\n",
            "|       farm|    1|\n",
            "|     duties|    1|\n",
            "|        day|    1|\n",
            "|   rejected|    1|\n",
            "|     intend|    1|\n",
            "|  cardinals|    1|\n",
            "| production|    1|\n",
            "|        two|    1|\n",
            "+-----------+-----+\n",
            "only showing top 10 rows\n",
            "\n"
          ]
        }
      ],
      "source": [
        "counts.show(10)"
      ]
    },
    {
      "cell_type": "markdown",
      "source": [
        "**IN-CLASS EXERCISE**"
      ],
      "metadata": {
        "id": "g__6NTCMD1EM"
      },
      "id": "g__6NTCMD1EM"
    },
    {
      "cell_type": "code",
      "execution_count": null,
      "id": "5a02229d-20db-4597-b09d-e8b5bfc7c041",
      "metadata": {
        "id": "5a02229d-20db-4597-b09d-e8b5bfc7c041"
      },
      "outputs": [],
      "source": [
        "cleaned = (\n",
        "    spark.read.text(file_path)\n",
        "     .select(F.split(F.col('value'), ' ').alias('line'))\n",
        "     .select(F.explode(F.col('line')).alias('word'))\n",
        "     .select(F.lower(F.col('word')).alias('word'))\n",
        "     .select(F.regexp_extract(F.col('word'), r\"(\\W+)?([a-z]+)\", 2).alias('word'))\n",
        "     .where(F.col('word') != \"\")\n",
        ")"
      ]
    },
    {
      "cell_type": "code",
      "execution_count": null,
      "id": "d4098e90-0a18-4972-9ab1-ced591099fde",
      "metadata": {
        "colab": {
          "base_uri": "https://localhost:8080/"
        },
        "id": "d4098e90-0a18-4972-9ab1-ced591099fde",
        "outputId": "86478a9e-5f31-434f-daf0-ecf917c9098f"
      },
      "outputs": [
        {
          "output_type": "stream",
          "name": "stdout",
          "text": [
            "+------+-----+\n",
            "|length|count|\n",
            "+------+-----+\n",
            "|     1|    9|\n",
            "|     2|   85|\n",
            "|     3|  104|\n",
            "|     4|   54|\n",
            "|     5|   39|\n",
            "|     6|   49|\n",
            "|     7|   44|\n",
            "|     8|   28|\n",
            "|     9|   22|\n",
            "|    10|   24|\n",
            "|    11|    7|\n",
            "|    12|    7|\n",
            "|    13|    2|\n",
            "|    17|    1|\n",
            "+------+-----+\n",
            "\n"
          ]
        }
      ],
      "source": [
        "# 1. Return the number of words by word length.\n",
        "  # F.length() returns the length of a word\n",
        "lengths = cleaned.select(\n",
        "  F.length(\n",
        "        F.col('word')\n",
        "    ).alias('length')\n",
        ")\n",
        "\n",
        "lengths.groupby('length').count().orderBy('length', ascending=True).show(30)\n"
      ]
    },
    {
      "cell_type": "code",
      "source": [
        "# 2. Return the number of each alphabet used in the article.\n",
        "  # filter / where\n",
        "  # where(F.col('column').isin(['x', 'y', 'z'])) filters so that only values equals x, y, or z remain\n",
        "letters = cleaned.select(\n",
        "    F.explode(F.split(F.col('word'), \"\"))\n",
        ")\n",
        "\n",
        "letters.groupby('col').count().orderBy('col').show(30)\n"
      ],
      "metadata": {
        "colab": {
          "base_uri": "https://localhost:8080/"
        },
        "id": "jL4CI1R7EHTN",
        "outputId": "e1c2b207-5671-4cb0-b544-22154e938df7"
      },
      "id": "jL4CI1R7EHTN",
      "execution_count": null,
      "outputs": [
        {
          "output_type": "stream",
          "name": "stdout",
          "text": [
            "+---+-----+\n",
            "|col|count|\n",
            "+---+-----+\n",
            "|  a|  189|\n",
            "|  b|   27|\n",
            "|  c|  106|\n",
            "|  d|   80|\n",
            "|  e|  287|\n",
            "|  f|   68|\n",
            "|  g|   35|\n",
            "|  h|  119|\n",
            "|  i|  210|\n",
            "|  j|    5|\n",
            "|  k|    8|\n",
            "|  l|  122|\n",
            "|  m|   56|\n",
            "|  n|  154|\n",
            "|  o|  206|\n",
            "|  p|   61|\n",
            "|  q|    3|\n",
            "|  r|  152|\n",
            "|  s|  144|\n",
            "|  t|  171|\n",
            "|  u|   57|\n",
            "|  v|   28|\n",
            "|  w|   30|\n",
            "|  x|   15|\n",
            "|  y|   33|\n",
            "|  z|    4|\n",
            "+---+-----+\n",
            "\n"
          ]
        }
      ]
    },
    {
      "cell_type": "code",
      "execution_count": null,
      "id": "0608d5f9-c6b7-408e-a606-0e6c0f6be85e",
      "metadata": {
        "colab": {
          "base_uri": "https://localhost:8080/",
          "height": 472
        },
        "id": "0608d5f9-c6b7-408e-a606-0e6c0f6be85e",
        "outputId": "92a9309e-683c-459f-f757-a7d9991b82a9"
      },
      "outputs": [
        {
          "output_type": "display_data",
          "data": {
            "text/plain": [
              "<Figure size 640x480 with 1 Axes>"
            ],
            "image/png": "[encoded data removed]"
          },
          "metadata": {}
        }
      ],
      "source": [
        "# 3. Draw a histogram for the number of alphabets used, ordered by alphabetical order.\n",
        "import matplotlib.pyplot as plt\n",
        "\n",
        "letters_df = letters.groupby('col').count().orderBy('col')\n",
        "data = letters_df.collect()\n",
        "\n",
        "alpha = [row['col'] for row in data]\n",
        "counts = [row['count'] for row in data]\n",
        "\n",
        "# Create the histogram\n",
        "plt.bar(alpha, counts, color='skyblue', edgecolor='black')\n",
        "plt.title('Histogram of Values')\n",
        "plt.xlabel('Value')\n",
        "plt.ylabel('Frequency')\n",
        "plt.show()"
      ]
    },
    {
      "cell_type": "code",
      "source": [],
      "metadata": {
        "id": "maKBRitLHEHn"
      },
      "id": "maKBRitLHEHn",
      "execution_count": null,
      "outputs": []
    }
  ],
  "metadata": {
    "kernelspec": {
      "display_name": "Python 3 (ipykernel)",
      "language": "python",
      "name": "python3"
    },
    "language_info": {
      "codemirror_mode": {
        "name": "ipython",
        "version": 3
      },
      "file_extension": ".py",
      "mimetype": "text/x-python",
      "name": "python",
      "nbconvert_exporter": "python",
      "pygments_lexer": "ipython3",
      "version": "3.11.5"
    },
    "colab": {
      "provenance": [],
      "include_colab_link": true
    }
  },
  "nbformat": 4,
  "nbformat_minor": 5
}