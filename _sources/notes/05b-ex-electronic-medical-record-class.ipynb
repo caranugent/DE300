{
  "cells": [
    {
      "cell_type": "markdown",
      "id": "7c20d3a8-a3c7-4607-b109-c9f3f31d1896",
      "metadata": {
        "id": "7c20d3a8-a3c7-4607-b109-c9f3f31d1896"
      },
      "source": [
        "# (EX) Electronic medical record (as a SQL refresher)\n",
        "This example utilizes a subset of the [MIMIC III demo](https://physionet.org/content/mimiciii-demo/1.4/) dataset in illustrating the use of database using DuckDB.\n",
        "\n",
        "*Quick notes about DuckDB:*  \n",
        "\n",
        "- DuckDB is a relational database for analytics processing (i.e., OLAP)\n",
        "- DuckDB is columnar-oriented\n",
        "- DuckDB scales reasonably for *relatively* large datasets and works well for local development\n",
        "\n",
        "For MIMIC-III, here is a [full summary](https://mit-lcp.github.io/mimic-schema-spy/) where you can understand the relationship between tables."
      ]
    },
    {
      "cell_type": "code",
      "execution_count": 1,
      "id": "34d2d203-6568-4c5e-8215-756f8946507a",
      "metadata": {
        "scrolled": true,
        "id": "34d2d203-6568-4c5e-8215-756f8946507a"
      },
      "outputs": [],
      "source": [
        "#!pip install duckdb==1.2.2\n",
        "import duckdb"
      ]
    },
    {
      "cell_type": "code",
      "execution_count": 3,
      "id": "122c09a4-4197-4582-86e7-31556d0aae68",
      "metadata": {
        "colab": {
          "base_uri": "https://localhost:8080/"
        },
        "id": "122c09a4-4197-4582-86e7-31556d0aae68",
        "outputId": "80fd28f5-270e-4549-9648-14010129f6ed"
      },
      "outputs": [
        {
          "output_type": "execute_result",
          "data": {
            "text/plain": [
              "┌────────────┐\n",
              "│    name    │\n",
              "│  varchar   │\n",
              "├────────────┤\n",
              "│ ADMISSIONS │\n",
              "│ DRGCODES   │\n",
              "│ D_ICDPROCS │\n",
              "│ ICUSTAYS   │\n",
              "│ PATIENTS   │\n",
              "│ PROCS_ICD  │\n",
              "└────────────┘"
            ]
          },
          "metadata": {},
          "execution_count": 3
        }
      ],
      "source": [
        "# establish connection\n",
        "conn = duckdb.connect('dataset/mimic.db', read_only=True)\n",
        "\n",
        "conn.sql('SHOW TABLES;')"
      ]
    },
    {
      "cell_type": "code",
      "execution_count": 4,
      "id": "f472eba1-ec9a-4ef0-a3f9-35779453c25a",
      "metadata": {
        "colab": {
          "base_uri": "https://localhost:8080/"
        },
        "id": "f472eba1-ec9a-4ef0-a3f9-35779453c25a",
        "outputId": "4d6b7d4c-c6f6-4fe5-be65-0296c7eedccd"
      },
      "outputs": [
        {
          "output_type": "execute_result",
          "data": {
            "text/plain": [
              "┌──────────────────────┬───────────┐\n",
              "│     column_name      │ data_type │\n",
              "│       varchar        │  varchar  │\n",
              "├──────────────────────┼───────────┤\n",
              "│ row_id               │ INTEGER   │\n",
              "│ subject_id           │ INTEGER   │\n",
              "│ hadm_id              │ INTEGER   │\n",
              "│ admittime            │ VARCHAR   │\n",
              "│ dischtime            │ VARCHAR   │\n",
              "│ deathtime            │ VARCHAR   │\n",
              "│ admission_type       │ VARCHAR   │\n",
              "│ admission_location   │ VARCHAR   │\n",
              "│ discharge_location   │ VARCHAR   │\n",
              "│ insurance            │ VARCHAR   │\n",
              "│ language             │ VARCHAR   │\n",
              "│ religion             │ VARCHAR   │\n",
              "│ marital_status       │ VARCHAR   │\n",
              "│ ethnicity            │ VARCHAR   │\n",
              "│ edregtime            │ VARCHAR   │\n",
              "│ edouttime            │ VARCHAR   │\n",
              "│ diagnosis            │ VARCHAR   │\n",
              "│ hospital_expire_flag │ INTEGER   │\n",
              "│ has_chartevents_data │ INTEGER   │\n",
              "├──────────────────────┴───────────┤\n",
              "│ 19 rows                2 columns │\n",
              "└──────────────────────────────────┘"
            ]
          },
          "metadata": {},
          "execution_count": 4
        }
      ],
      "source": [
        "# metadata for a particular table\n",
        "conn.sql(\n",
        "    \"\"\"\n",
        "    SELECT column_name, data_type FROM information_schema.columns\n",
        "    WHERE table_name = 'ADMISSIONS';\n",
        "    \"\"\"\n",
        ")"
      ]
    },
    {
      "cell_type": "code",
      "source": [
        "# metadata for a particular table\n",
        "conn.sql(\n",
        "    \"\"\"\n",
        "    SELECT column_name, data_type FROM information_schema.columns\n",
        "    WHERE table_name = 'PATIENTS';\n",
        "    \"\"\"\n",
        ")\n",
        "\n",
        "conn.sql(\n",
        "    \"\"\"\n",
        "    SELECT column_name, data_type FROM information_schema.columns\n",
        "    WHERE table_name = 'DRGCODES';\n",
        "    \"\"\"\n",
        ")"
      ],
      "metadata": {
        "colab": {
          "base_uri": "https://localhost:8080/"
        },
        "id": "CiHmdFGW9QJX",
        "outputId": "4bcd392a-00a2-48a5-b035-86aa7f30be37"
      },
      "id": "CiHmdFGW9QJX",
      "execution_count": 22,
      "outputs": [
        {
          "output_type": "execute_result",
          "data": {
            "text/plain": [
              "┌───────────────┬───────────┐\n",
              "│  column_name  │ data_type │\n",
              "│    varchar    │  varchar  │\n",
              "├───────────────┼───────────┤\n",
              "│ row_id        │ BIGINT    │\n",
              "│ subject_id    │ BIGINT    │\n",
              "│ hadm_id       │ BIGINT    │\n",
              "│ drg_type      │ VARCHAR   │\n",
              "│ drg_code      │ VARCHAR   │\n",
              "│ description   │ VARCHAR   │\n",
              "│ drg_severity  │ BIGINT    │\n",
              "│ drg_mortality │ BIGINT    │\n",
              "└───────────────┴───────────┘"
            ]
          },
          "metadata": {},
          "execution_count": 22
        }
      ]
    },
    {
      "cell_type": "code",
      "execution_count": 5,
      "id": "dccd4798-a5fa-438f-8040-bd01b729c97e",
      "metadata": {
        "scrolled": true,
        "colab": {
          "base_uri": "https://localhost:8080/"
        },
        "id": "dccd4798-a5fa-438f-8040-bd01b729c97e",
        "outputId": "8676d3d9-b60e-4ee3-aa76-915160c32ba7"
      },
      "outputs": [
        {
          "output_type": "execute_result",
          "data": {
            "text/plain": [
              "┌─────────────────────┐\n",
              "│      deathtime      │\n",
              "│       varchar       │\n",
              "├─────────────────────┤\n",
              "│ NULL                │\n",
              "│ 2126-08-28 18:59:00 │\n",
              "│ 2125-10-07 15:13:00 │\n",
              "│ NULL                │\n",
              "│ 2163-05-15 12:00:00 │\n",
              "│ NULL                │\n",
              "│ NULL                │\n",
              "│ NULL                │\n",
              "│ NULL                │\n",
              "│ NULL                │\n",
              "│  ·                  │\n",
              "│  ·                  │\n",
              "│  ·                  │\n",
              "│ NULL                │\n",
              "│ 2152-10-09 22:33:00 │\n",
              "│ NULL                │\n",
              "│ NULL                │\n",
              "│ NULL                │\n",
              "│ NULL                │\n",
              "│ 2178-05-15 09:45:00 │\n",
              "│ NULL                │\n",
              "│ NULL                │\n",
              "│ NULL                │\n",
              "├─────────────────────┤\n",
              "│ 129 rows (20 shown) │\n",
              "└─────────────────────┘"
            ]
          },
          "metadata": {},
          "execution_count": 5
        }
      ],
      "source": [
        "# admission table at a glance\n",
        "conn.sql(\n",
        "    \"\"\"\n",
        "    SELECT deathtime FROM ADMISSIONS;\n",
        "    \"\"\"\n",
        ")"
      ]
    },
    {
      "cell_type": "code",
      "execution_count": 6,
      "id": "e1621349-194a-4dc9-8c42-c1cfdfa946dc",
      "metadata": {
        "colab": {
          "base_uri": "https://localhost:8080/"
        },
        "id": "e1621349-194a-4dc9-8c42-c1cfdfa946dc",
        "outputId": "30aa66cc-19bb-47df-9542-1770c31384ff"
      },
      "outputs": [
        {
          "output_type": "execute_result",
          "data": {
            "text/plain": [
              "┌──────────────┐\n",
              "│ count_star() │\n",
              "│    int64     │\n",
              "├──────────────┤\n",
              "│          100 │\n",
              "└──────────────┘"
            ]
          },
          "metadata": {},
          "execution_count": 6
        }
      ],
      "source": [
        "# number of patients\n",
        "conn.sql(\n",
        "    \"\"\"\n",
        "    SELECT COUNT(*) FROM PATIENTS;\n",
        "    \"\"\"\n",
        ")"
      ]
    },
    {
      "cell_type": "markdown",
      "id": "c8b07317-c334-456a-8ff8-eb093387796b",
      "metadata": {
        "id": "c8b07317-c334-456a-8ff8-eb093387796b"
      },
      "source": [
        "## Refresher for simple queries\n",
        "\n",
        "1. How many records are in each of the available tables?\n",
        "2. How many patients are female?\n",
        "3. How many patients passed away during the hospital stay?\n",
        "4. How many different admission types are there? What are they?\n",
        "5. What is the earliest and the latest admission time in the database?"
      ]
    },
    {
      "cell_type": "code",
      "source": [
        "# 1. How many records are in each of the available tables?\n",
        "conn.sql(\n",
        "    \"\"\"\n",
        "    SELECT 'ADMISSIONS' AS table_name, COUNT(*) AS count FROM ADMISSIONS\n",
        "    UNION ALL\n",
        "    SELECT 'DRGCODES', COUNT(*) FROM DRGCODES\n",
        "    UNION ALL\n",
        "    SELECT 'D_ICDPROCS', COUNT(*) FROM D_ICDPROCS\n",
        "    UNION ALL\n",
        "    SELECT 'ICUSTAYS', COUNT(*) FROM ICUSTAYS\n",
        "    UNION ALL\n",
        "    SELECT 'PATIENTS', COUNT(*) FROM PATIENTS\n",
        "    UNION ALL\n",
        "    SELECT 'PROCS_ICD', COUNT(*) FROM PROCS_ICD;\n",
        "    \"\"\"\n",
        "    )\n",
        "\n",
        "# 2. How many patients are female?\n",
        "conn.sql(\n",
        "    \"\"\"\n",
        "    SELECT COUNT(*) FROM PATIENTS\n",
        "    WHERE gender = 'F';\n",
        "    \"\"\"\n",
        ")\n",
        "\n",
        "# 3. How many patients passed away during the hospital stay?\n",
        "conn.sql(\n",
        "    \"\"\"\n",
        "    SELECT COUNT(*) FROM PATIENTS\n",
        "    WHERE dod_hosp IS NOT NULL;\n",
        "    \"\"\"\n",
        ")\n",
        "\n",
        "# 4. How many different admission types are there? What are they?\n",
        "conn.sql(\n",
        "    \"\"\"\n",
        "    SELECT DISTINCT admission_type FROM ADMISSIONS;\n",
        "    \"\"\"\n",
        ")\n",
        "\n",
        "# 5. What is the earliest and the latest admission time in the database?\n",
        "conn.sql(\n",
        "    \"\"\"\n",
        "    SELECT MIN(admittime), MAX(admittime) FROM ADMISSIONS;\n",
        "    \"\"\"\n",
        ")\n"
      ],
      "metadata": {
        "colab": {
          "base_uri": "https://localhost:8080/"
        },
        "id": "wHP1fWvL_6p3",
        "outputId": "47f741d1-d7e4-4edc-da7e-d206fb2ae56e"
      },
      "id": "wHP1fWvL_6p3",
      "execution_count": 21,
      "outputs": [
        {
          "output_type": "execute_result",
          "data": {
            "text/plain": [
              "┌─────────────────────┬─────────────────────┐\n",
              "│   min(admittime)    │   max(admittime)    │\n",
              "│       varchar       │       varchar       │\n",
              "├─────────────────────┼─────────────────────┤\n",
              "│ 2102-08-29 07:15:00 │ 2202-10-03 01:45:00 │\n",
              "└─────────────────────┴─────────────────────┘"
            ]
          },
          "metadata": {},
          "execution_count": 21
        }
      ]
    },
    {
      "cell_type": "markdown",
      "id": "d2d5c3ed-b243-4463-a52d-1bc2da399f93",
      "metadata": {
        "id": "d2d5c3ed-b243-4463-a52d-1bc2da399f93"
      },
      "source": [
        "## Slightly more complicated queries\n",
        "1. Create a table with all ICU stays with their respective patient information.\n",
        "2. Create a table to show all unique DRG (diagnosis-related group) codes and the number of associated admissions."
      ]
    },
    {
      "cell_type": "code",
      "execution_count": 25,
      "id": "ae475f0e-d1d7-4f66-bd41-4cdcefca6c2d",
      "metadata": {
        "colab": {
          "base_uri": "https://localhost:8080/"
        },
        "id": "ae475f0e-d1d7-4f66-bd41-4cdcefca6c2d",
        "outputId": "b30167aa-3c3e-4296-cbee-1acca1ae46e2"
      },
      "outputs": [
        {
          "output_type": "execute_result",
          "data": {
            "text/plain": [
              "┌──────────┬────────────────┐\n",
              "│ drg_code │ num_admissions │\n",
              "│ varchar  │     int64      │\n",
              "├──────────┼────────────────┤\n",
              "│ 7204     │             12 │\n",
              "│ 871      │             11 │\n",
              "│ 416      │              8 │\n",
              "│ 7104     │              4 │\n",
              "│ 1394     │              4 │\n",
              "│ 208      │              3 │\n",
              "│ 1304     │              3 │\n",
              "│ 207      │              3 │\n",
              "│ 001      │              2 │\n",
              "│ 6814     │              2 │\n",
              "│  ·       │              · │\n",
              "│  ·       │              · │\n",
              "│  ·       │              · │\n",
              "│ 190      │              1 │\n",
              "│ 6914     │              1 │\n",
              "│ 2072     │              1 │\n",
              "│ 314      │              1 │\n",
              "│ 565      │              1 │\n",
              "│ 4423     │              1 │\n",
              "│ 2213     │              1 │\n",
              "│ 0203     │              1 │\n",
              "│ 218      │              1 │\n",
              "│ 518      │              1 │\n",
              "├──────────┴────────────────┤\n",
              "│    162 rows (20 shown)    │\n",
              "└───────────────────────────┘"
            ]
          },
          "metadata": {},
          "execution_count": 25
        }
      ],
      "source": [
        "# 1. Create a table with all ICU stays with their respective patient information.\n",
        "conn.sql(\n",
        "    \"\"\"\n",
        "    SELECT * FROM ICUSTAYS JOIN ADMISSIONS ON ICUSTAYS.hadm_id = ADMISSIONS.hadm_id;\n",
        "    \"\"\"\n",
        ")\n",
        "\n",
        "\n",
        "# 2. Create a table to show all unique DRG (diagnosis-related group) codes and the number of associated admissions.\n",
        "conn.sql(\n",
        "    \"\"\"\n",
        "    SELECT drg_code, COUNT(DISTINCT hadm_id) AS num_admissions FROM DRGCODES\n",
        "    GROUP BY drg_code\n",
        "    ORDER BY num_admissions DESC;\n",
        "    \"\"\"\n",
        ")\n",
        "## ordered the table by descending to ensure codes were grouped together! (a lot of codes w/ 1 admin)"
      ]
    },
    {
      "cell_type": "markdown",
      "id": "36a89562-e90a-457e-9c3a-fa3db6a2910f",
      "metadata": {
        "id": "36a89562-e90a-457e-9c3a-fa3db6a2910f"
      },
      "source": [
        "## Derivative queries"
      ]
    },
    {
      "cell_type": "markdown",
      "id": "45ef93ab-0cac-4622-b1eb-ed28d1601f7e",
      "metadata": {
        "id": "45ef93ab-0cac-4622-b1eb-ed28d1601f7e"
      },
      "source": [
        "1. Calculate the age of each patient at the time of admission.  \n",
        "    *Hint:* `cast(patients.dob as date)` allows for addition and subtraction of dates (in days)\n",
        "2. Identify if a patient passes away when they are in the ICU.\n",
        "3. Calculate the average duration of admission."
      ]
    },
    {
      "cell_type": "code",
      "execution_count": 43,
      "id": "3b7fc524-0863-43bd-9edc-933d07e3377d",
      "metadata": {
        "colab": {
          "base_uri": "https://localhost:8080/"
        },
        "id": "3b7fc524-0863-43bd-9edc-933d07e3377d",
        "outputId": "fc0eac85-bae7-4864-c5c4-10f633b9ce9e"
      },
      "outputs": [
        {
          "output_type": "execute_result",
          "data": {
            "text/plain": [
              "┌────────────┬─────────┬────────────────┬────────────┬──────────────────┐\n",
              "│ subject_id │ hadm_id │ admittime_date │  dob_date  │ age_at_admission │\n",
              "│   int32    │  int32  │      date      │    date    │      double      │\n",
              "├────────────┼─────────┼────────────────┼────────────┼──────────────────┤\n",
              "│      10006 │  142345 │ 2164-10-23     │ 2094-03-05 │             70.6 │\n",
              "│      10011 │  105331 │ 2126-08-14     │ 2090-06-05 │             36.2 │\n",
              "│      10013 │  165520 │ 2125-10-04     │ 2038-09-03 │             87.1 │\n",
              "│      10017 │  199207 │ 2149-05-26     │ 2075-09-21 │             73.7 │\n",
              "│      10019 │  177759 │ 2163-05-14     │ 2114-06-20 │             48.9 │\n",
              "│      10026 │  103770 │ 2195-05-17     │ 1895-05-17 │            300.0 │\n",
              "│      10027 │  199395 │ 2190-07-13     │ 2108-01-15 │             82.5 │\n",
              "│      10029 │  132349 │ 2139-09-22     │ 2061-04-10 │             78.4 │\n",
              "│      10032 │  140372 │ 2138-04-02     │ 2050-03-29 │             88.0 │\n",
              "│      10033 │  157235 │ 2132-12-05     │ 2051-04-21 │             81.6 │\n",
              "│        ·   │     ·   │     ·          │     ·      │               ·  │\n",
              "│        ·   │     ·   │     ·          │     ·      │               ·  │\n",
              "│        ·   │     ·   │     ·          │     ·      │               ·  │\n",
              "│      43881 │  167021 │ 2104-10-24     │ 2051-03-24 │             53.6 │\n",
              "│      43909 │  167612 │ 2152-10-09     │ 2073-11-22 │             78.9 │\n",
              "│      43927 │  110958 │ 2175-10-02     │ 2104-02-12 │             71.6 │\n",
              "│      44083 │  125157 │ 2112-05-04     │ 2057-11-15 │             54.5 │\n",
              "│      44083 │  131048 │ 2112-05-22     │ 2057-11-15 │             54.5 │\n",
              "│      44083 │  198330 │ 2112-05-28     │ 2057-11-15 │             54.5 │\n",
              "│      44154 │  174245 │ 2178-05-14     │ 1878-05-14 │            300.0 │\n",
              "│      44212 │  163189 │ 2123-11-24     │ 2078-06-16 │             45.4 │\n",
              "│      44222 │  192189 │ 2180-07-19     │ 2107-06-27 │             73.1 │\n",
              "│      44228 │  103379 │ 2170-12-15     │ 2112-10-22 │             58.1 │\n",
              "├────────────┴─────────┴────────────────┴────────────┴──────────────────┤\n",
              "│ 129 rows (20 shown)                                         5 columns │\n",
              "└───────────────────────────────────────────────────────────────────────┘"
            ]
          },
          "metadata": {},
          "execution_count": 43
        }
      ],
      "source": [
        "# Calculate the age of each patient at the time of admission.\n",
        "  # Hint: cast(patients.dob as date) allows for addition and subtraction of dates (in days)\n",
        "conn.sql(\n",
        "    \"\"\"\n",
        "    SELECT p.subject_id, a.hadm_id, CAST(a.admittime AS DATE) AS admittime_date, CAST(p.dob AS DATE) AS dob_date,\n",
        "    ROUND((CAST(a.admittime AS DATE) - CAST(p.dob AS DATE)) / 365.25, 1) AS age_at_admission,\n",
        "    FROM PATIENTS p\n",
        "    JOIN ADMISSIONS a\n",
        "    ON p.subject_id = a.subject_id;\n",
        "    \"\"\"\n",
        ")\n",
        "\n"
      ]
    }
  ],
  "metadata": {
    "kernelspec": {
      "display_name": "Python 3 (ipykernel)",
      "language": "python",
      "name": "python3"
    },
    "language_info": {
      "codemirror_mode": {
        "name": "ipython",
        "version": 3
      },
      "file_extension": ".py",
      "mimetype": "text/x-python",
      "name": "python",
      "nbconvert_exporter": "python",
      "pygments_lexer": "ipython3",
      "version": "3.11.9"
    },
    "colab": {
      "provenance": []
    }
  },
  "nbformat": 4,
  "nbformat_minor": 5
}